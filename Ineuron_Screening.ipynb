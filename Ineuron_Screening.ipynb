{
 "cells": [
  {
   "cell_type": "code",
   "execution_count": 2,
   "metadata": {},
   "outputs": [],
   "source": [
    "#Replacing string content of the file\n",
    "def fileContentModifier(filename,actualContent,newContent):\n",
    "    \"\"\"\n",
    "    filename= Target file name where content has to be changed\n",
    "    actualContent= Existing string which to be changed\n",
    "    newContent = Replace of the existing string\n",
    "    \"\"\"\n",
    "    try:\n",
    "        file=open(filename,'r')\n",
    "        content=file.read()\n",
    "        content=content.replace(actualContent,newContent)\n",
    "        file=open(filename,'w')\n",
    "        file.write(content)\n",
    "    except Exception as e:\n",
    "        raise Exception(\"File Not Found\")\n",
    "    finally:\n",
    "        file.close()"
   ]
  },
  {
   "cell_type": "code",
   "execution_count": 3,
   "metadata": {},
   "outputs": [],
   "source": [
    "fileContentModifier('testFile.txt','placement','screening')"
   ]
  },
  {
   "cell_type": "code",
   "execution_count": 4,
   "metadata": {},
   "outputs": [],
   "source": [
    "# Abstract class Example-\n",
    "# Abstraction is the way of hiding detailed implementation and show only the implementation required for the user\n",
    "from abc import ABC,abstractmethod\n",
    "class Bank(ABC):\n",
    "    \n",
    "    @abstractmethod\n",
    "    def makePayment(self,amount):\n",
    "        \"\"\"\n",
    "        Abstract method implememted to make payment from Kotak Mahindra and Axis bank\n",
    "        \"\"\"\n",
    "        pass    \n",
    "    \n",
    "class KotakMahindra(Bank):\n",
    "    \n",
    "    def __init__(self,amount):\n",
    "        self.amount=amount\n",
    "    \n",
    "    def makePayment(self):\n",
    "        \"\"\"\n",
    "        Implemented method from Bank class to make payment from Kotak Bank \n",
    "        \"\"\"\n",
    "        print('Payment done from  Kotak Mahindra for amount '+str(self.amount))\n",
    "        \n",
    "class Axis(Bank):\n",
    "    \n",
    "    def __init__(self,amount):\n",
    "        self.amount=amount\n",
    "    \n",
    "    def makePayment(self,amount):\n",
    "        \"\"\"\n",
    "        Implemented method from Bank class to make payment from Axis Bank \n",
    "        \"\"\"\n",
    "        print('Payment done for Axis for amount '+str(self.amount))\n",
    "        \n",
    "\n"
   ]
  },
  {
   "cell_type": "code",
   "execution_count": 5,
   "metadata": {},
   "outputs": [],
   "source": [
    "bankPayment=KotakMahindra(250)"
   ]
  },
  {
   "cell_type": "code",
   "execution_count": 6,
   "metadata": {},
   "outputs": [
    {
     "name": "stdout",
     "output_type": "stream",
     "text": [
      "Payment done from  Kotak Mahindra for amount 250\n"
     ]
    }
   ],
   "source": [
    "bankPayment.makePayment()"
   ]
  },
  {
   "cell_type": "code",
   "execution_count": 7,
   "metadata": {},
   "outputs": [],
   "source": [
    "# Multiple Inheritance is a situation where child class can inherit behavior from 2 parent classes\n",
    "\n",
    "# A person can have 2 bank account to make payment the first parent class will be considered \n",
    "# by default to make payment\n",
    "\n",
    "class KotakBank():\n",
    " \n",
    "    def payment(self,amount):\n",
    "        print('Make payment from kotak bank of amount '+str(amount))\n",
    "        \n",
    "class BankOfIndia():\n",
    "  \n",
    "    def payment(self,amount):\n",
    "        print('Make payment from kotak bank of amount '+str(amount))\n",
    "        \n",
    "class User(KotakBank,BankOfIndia):\n",
    "    def __init__(self):\n",
    "        print('Object for user')\n",
    "    \n",
    "    def makePayment(self,amount):\n",
    "        super().payment(amount)\n",
    "        \n",
    "    \n",
    "        \n",
    "        "
   ]
  },
  {
   "cell_type": "code",
   "execution_count": 8,
   "metadata": {},
   "outputs": [
    {
     "name": "stdout",
     "output_type": "stream",
     "text": [
      "Object for user\n",
      "Make payment from kotak bank of amount 50\n"
     ]
    }
   ],
   "source": [
    "payment=User()\n",
    "payment.makePayment(50)"
   ]
  },
  {
   "cell_type": "code",
   "execution_count": 9,
   "metadata": {},
   "outputs": [
    {
     "name": "stdout",
     "output_type": "stream",
     "text": [
      "Available Balance is 5\n",
      "Payment successfully completed\n"
     ]
    }
   ],
   "source": [
    "# Decorators \n",
    "# Decorators are used to use function as a parameter to another funtion\n",
    "\n",
    "def makePayment(func):\n",
    "    \"\"\"\n",
    "    To check balance and make payment\n",
    "    \"\"\"\n",
    "    balance=func()\n",
    "    print('Available Balance is '+str(balance))\n",
    "    print(\"Payment successfully completed\")\n",
    "\n",
    "@makePayment\n",
    "def checkAvailableBalance():\n",
    "    \"\"\"\n",
    "    Method to check balance\n",
    "    \"\"\"\n",
    "    return 5\n",
    "    "
   ]
  },
  {
   "cell_type": "code",
   "execution_count": null,
   "metadata": {},
   "outputs": [],
   "source": []
  }
 ],
 "metadata": {
  "kernelspec": {
   "display_name": "Python 3",
   "language": "python",
   "name": "python3"
  },
  "language_info": {
   "codemirror_mode": {
    "name": "ipython",
    "version": 3
   },
   "file_extension": ".py",
   "mimetype": "text/x-python",
   "name": "python",
   "nbconvert_exporter": "python",
   "pygments_lexer": "ipython3",
   "version": "3.8.3"
  }
 },
 "nbformat": 4,
 "nbformat_minor": 4
}
